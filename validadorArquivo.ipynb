{
 "cells": [
  {
   "cell_type": "code",
   "execution_count": 9,
   "metadata": {},
   "outputs": [],
   "source": [
    "import os\n",
    "import shutil\n",
    "from bs4 import BeautifulSoup\n",
    "import chardet"
   ]
  },
  {
   "cell_type": "code",
   "execution_count": 10,
   "metadata": {},
   "outputs": [
    {
     "name": "stdout",
     "output_type": "stream",
     "text": [
      "O arquivo HTML existe.\n"
     ]
    }
   ],
   "source": [
    "caminho_arquivo_html = '/Volumes/Backup/ASC_Atendimentos_Descompactados/2021_2022/2021/Janeiro/365652-202100365652-20230810.html'\n",
    "pasta_destino = '/Users/Seven/Documents/Projetos Dev Bruno/Leitor_HTML'\n",
    "\n",
    "if os.path.exists(caminho_arquivo_html):\n",
    "    print(\"O arquivo HTML existe.\")\n",
    "    \n",
    "    # Detectar a codificação do arquivo HTML\n",
    "    with open(caminho_arquivo_html, 'rb') as arquivo_binario:\n",
    "        resultado = chardet.detect(arquivo_binario.read())\n",
    "        codificacao = resultado['encoding']\n",
    "    \n",
    "    # Abrir o arquivo HTML com a codificação correta\n",
    "    with open(caminho_arquivo_html, 'r', encoding=codificacao) as arquivo_html:\n",
    "        conteudo_html = arquivo_html.read()"
   ]
  },
  {
   "cell_type": "code",
   "execution_count": 11,
   "metadata": {},
   "outputs": [
    {
     "name": "stdout",
     "output_type": "stream",
     "text": [
      "Anexo copiado para /Users/Seven/Documents/Projetos Dev Bruno/Leitor_HTML/4-258861001610630855.pdf\n",
      "Anexo copiado para /Users/Seven/Documents/Projetos Dev Bruno/Leitor_HTML/5-159265001610630874.pdf\n",
      "O arquivo HTML não existe.\n"
     ]
    }
   ],
   "source": [
    "# Detectar a codificação do arquivo HTML\n",
    "with open(caminho_arquivo_html, 'rb') as arquivo_binario:\n",
    "        resultado = chardet.detect(arquivo_binario.read())\n",
    "        codificacao = resultado['encoding']\n",
    "    \n",
    "    # Abrir o arquivo HTML com a codificação correta\n",
    "with open(caminho_arquivo_html, 'r', encoding=codificacao) as arquivo_html:\n",
    "        conteudo_html = arquivo_html.read()\n",
    "    \n",
    "    # Analisar o conteúdo HTML com BeautifulSoup\n",
    "soup = BeautifulSoup(conteudo_html, 'html.parser')\n",
    "    \n",
    "    # Encontrar todos os links para anexos\n",
    "links_anexos = soup.find_all('a', href=True)\n",
    "    \n",
    "for link in links_anexos:\n",
    "        href = link['href']\n",
    "        if 'anexos/' in href:\n",
    "            anexo_nome = href.split('/')[-1]\n",
    "            caminho_anexo_origem = os.path.join(os.path.dirname(caminho_arquivo_html), href)\n",
    "            caminho_anexo_destino = os.path.join(pasta_destino, anexo_nome)\n",
    "            \n",
    "            try:\n",
    "                # Copiar o anexo para a pasta de destino\n",
    "                shutil.copy(caminho_anexo_origem, caminho_anexo_destino)\n",
    "                print(f\"Anexo copiado para {caminho_anexo_destino}\")\n",
    "            except Exception as e:\n",
    "                print(f\"Erro ao copiar o anexo: {str(e)}\")\n",
    "else:\n",
    "    print(\"O arquivo HTML não existe.\")"
   ]
  }
 ],
 "metadata": {
  "kernelspec": {
   "display_name": "venv",
   "language": "python",
   "name": "python3"
  },
  "language_info": {
   "codemirror_mode": {
    "name": "ipython",
    "version": 3
   },
   "file_extension": ".py",
   "mimetype": "text/x-python",
   "name": "python",
   "nbconvert_exporter": "python",
   "pygments_lexer": "ipython3",
   "version": "3.11.4"
  },
  "orig_nbformat": 4
 },
 "nbformat": 4,
 "nbformat_minor": 2
}
